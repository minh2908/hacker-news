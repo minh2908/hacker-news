{
 "cells": [
  {
   "cell_type": "markdown",
   "metadata": {
    "collapsed": true
   },
   "source": [
    "# What Insight Can You Get From a Social News Website? An Analysis on Hacker News\n",
    "\n",
    "Hacker News is a popular social news website founded by Y Combinator - a well-known startup accelerator in the US. The site mainly focuses on computer science and entrepreneurship. Users can submit content to Hacker News which can be voted and commented upon by members in the community. In this project, we look at the data about 20,000 threats submitted on Hacker News. We are especially interested in two kinds of posts: `Ask HN` and `Show HN`. `Ask HN` is the type of posts when a member wants to ask the community something, for example, `How to create a good data science project?`; and `Show HN` is the type of posts when a member wants to show the community something interesting, e.g., `CatDrone: a drone that follows your cat`. \n",
    "\n",
    "We will analyze the data of Hacker News to answer the following two questions: \n",
    "* Which kind of posts receives more comments on average?\n",
    "* Does time of posting affect the number of comments?\n",
    "\n",
    "# Data Extraction\n",
    "\n",
    "Let's first take a look at the dataset we have."
   ]
  },
  {
   "cell_type": "code",
   "execution_count": 2,
   "metadata": {},
   "outputs": [
    {
     "name": "stdout",
     "output_type": "stream",
     "text": [
      "['id', 'title', 'url', 'num_points', 'num_comments', 'author', 'created_at']\n",
      "\n",
      "\n",
      "['12224879', 'Interactive Dynamic Video', 'http://www.interactivedynamicvideo.com/', '386', '52', 'ne0phyte', '8/4/2016 11:52']\n",
      "\n",
      "\n",
      "['10975351', 'How to Use Open Source and Shut the Fuck Up at the Same Time', 'http://hueniverse.com/2016/01/26/how-to-use-open-source-and-shut-the-fuck-up-at-the-same-time/', '39', '10', 'josep2', '1/26/2016 19:30']\n",
      "\n",
      "\n",
      "['11964716', \"Florida DJs May Face Felony for April Fools' Water Joke\", 'http://www.thewire.com/entertainment/2013/04/florida-djs-april-fools-water-joke/63798/', '2', '1', 'vezycash', '6/23/2016 22:20']\n",
      "\n",
      "\n"
     ]
    }
   ],
   "source": [
    "from csv import reader\n",
    "opened_file = open('hacker_news.csv')\n",
    "read_file = reader(opened_file)\n",
    "hn = list(read_file)\n",
    "for row in hn[:4]:\n",
    "    print(row)\n",
    "    print('\\n')"
   ]
  },
  {
   "cell_type": "markdown",
   "metadata": {},
   "source": [
    "We see that we have information about the title of a post, the number of points and comments the post received, its author, and the time at which the post was created. We then remove the header row from the main dataset for later analysis."
   ]
  },
  {
   "cell_type": "code",
   "execution_count": 3,
   "metadata": {},
   "outputs": [
    {
     "name": "stdout",
     "output_type": "stream",
     "text": [
      "['id', 'title', 'url', 'num_points', 'num_comments', 'author', 'created_at']\n",
      "['12224879', 'Interactive Dynamic Video', 'http://www.interactivedynamicvideo.com/', '386', '52', 'ne0phyte', '8/4/2016 11:52']\n",
      "\n",
      "\n",
      "['10975351', 'How to Use Open Source and Shut the Fuck Up at the Same Time', 'http://hueniverse.com/2016/01/26/how-to-use-open-source-and-shut-the-fuck-up-at-the-same-time/', '39', '10', 'josep2', '1/26/2016 19:30']\n",
      "\n",
      "\n",
      "['11964716', \"Florida DJs May Face Felony for April Fools' Water Joke\", 'http://www.thewire.com/entertainment/2013/04/florida-djs-april-fools-water-joke/63798/', '2', '1', 'vezycash', '6/23/2016 22:20']\n",
      "\n",
      "\n",
      "['11919867', 'Technology ventures: From Idea to Enterprise', 'https://www.amazon.com/Technology-Ventures-Enterprise-Thomas-Byers/dp/0073523429', '3', '1', 'hswarna', '6/17/2016 0:01']\n",
      "\n",
      "\n"
     ]
    }
   ],
   "source": [
    "headers = hn[0]\n",
    "hn = hn[1:]\n",
    "print(headers)\n",
    "for row in hn[:4]:\n",
    "    print(row)\n",
    "    print('\\n')"
   ]
  },
  {
   "cell_type": "markdown",
   "metadata": {},
   "source": [
    "Now, we extract the `Ask HN` and `Show HN` posts into two separate lists. "
   ]
  },
  {
   "cell_type": "code",
   "execution_count": 4,
   "metadata": {},
   "outputs": [
    {
     "name": "stdout",
     "output_type": "stream",
     "text": [
      "Number of 'Ask HN' posts: 1744\n",
      "Number of 'Show HN' posts: 1162\n",
      "Number of other posts: 17194\n",
      "Total number of posts: 20100\n"
     ]
    }
   ],
   "source": [
    "ask_posts = []\n",
    "show_posts = []\n",
    "other_posts = []\n",
    "\n",
    "for row in hn:\n",
    "    title = row[1]\n",
    "    title_lowercase = title.lower()\n",
    "    if title_lowercase.startswith('ask hn'):\n",
    "        ask_posts.append(row)\n",
    "    elif title_lowercase.startswith('show hn'):\n",
    "        show_posts.append(row)\n",
    "    else:\n",
    "        other_posts.append(row)\n",
    "print('Number of \\'Ask HN\\' posts:',len(ask_posts))\n",
    "print('Number of \\'Show HN\\' posts:',len(show_posts))\n",
    "print('Number of other posts:',len(other_posts))\n",
    "print('Total number of posts:',len(hn))"
   ]
  },
  {
   "cell_type": "markdown",
   "metadata": {},
   "source": [
    "# Analysis\n",
    "\n",
    "In this section, we calculate the average number of comments `Ask HN` and `Show HN` posts received, respectively."
   ]
  },
  {
   "cell_type": "code",
   "execution_count": 5,
   "metadata": {},
   "outputs": [
    {
     "name": "stdout",
     "output_type": "stream",
     "text": [
      "Average comments on 'Ask HN' posts: 14.038417431192661\n",
      "Average comments on 'Show HN' posts: 10.31669535283993\n"
     ]
    }
   ],
   "source": [
    "total_ask_comments = 0\n",
    "\n",
    "for row in ask_posts:\n",
    "    no_comments = int(row[4])\n",
    "    total_ask_comments += no_comments\n",
    "    \n",
    "avg_ask_comments = total_ask_comments / len(ask_posts)\n",
    "print('Average comments on \\'Ask HN\\' posts:',avg_ask_comments)\n",
    "\n",
    "total_show_comments = 0\n",
    "\n",
    "for row in show_posts:\n",
    "    no_comments = int(row[4])\n",
    "    total_show_comments += no_comments\n",
    "    \n",
    "avg_show_comments = total_show_comments / len(show_posts)\n",
    "print('Average comments on \\'Show HN\\' posts:', avg_show_comments)"
   ]
  },
  {
   "cell_type": "markdown",
   "metadata": {},
   "source": [
    "We found that `Ask HN` posts in average received 40% more comments than `Show HN` posts. We will then look into `Ask HN` posts to see if posting time affects the number of comments a thread receives. To this end, we will first extract the time a `Ask HN` thread was created together with the number of comments it received into a list named `result_list`. Then, we will divide the number of threads by the number of comments for each hour of the day to get a list of the average comments a post created at each hour of the day received. "
   ]
  },
  {
   "cell_type": "code",
   "execution_count": 6,
   "metadata": {},
   "outputs": [
    {
     "name": "stdout",
     "output_type": "stream",
     "text": [
      "['09', 5.5777777777777775]\n",
      "['13', 14.741176470588234]\n",
      "['10', 13.440677966101696]\n",
      "['14', 13.233644859813085]\n",
      "['16', 16.796296296296298]\n",
      "['23', 7.985294117647059]\n",
      "['12', 9.41095890410959]\n",
      "['17', 11.46]\n",
      "['15', 38.5948275862069]\n",
      "['21', 16.009174311926607]\n",
      "['20', 21.525]\n",
      "['02', 23.810344827586206]\n",
      "['18', 13.20183486238532]\n",
      "['03', 7.796296296296297]\n",
      "['05', 10.08695652173913]\n",
      "['19', 10.8]\n",
      "['01', 11.383333333333333]\n",
      "['22', 6.746478873239437]\n",
      "['08', 10.25]\n",
      "['04', 7.170212765957447]\n",
      "['00', 8.127272727272727]\n",
      "['06', 9.022727272727273]\n",
      "['07', 7.852941176470588]\n",
      "['11', 11.051724137931034]\n"
     ]
    }
   ],
   "source": [
    "import datetime as dt\n",
    "\n",
    "result_list = []\n",
    "\n",
    "for row in ask_posts:\n",
    "    time_created = row[6]\n",
    "    no_comments = int(row[4])\n",
    "    result_list.append([time_created, no_comments])\n",
    "    \n",
    "counts_by_hours = {}\n",
    "comments_by_hourse = {}\n",
    "\n",
    "for row in result_list:\n",
    "    datetime_created = dt.datetime.strptime(row[0], \"%m/%d/%Y %H:%M\")\n",
    "    hour_created = datetime_created.strftime(\"%H\")\n",
    "    if hour_created not in counts_by_hours:\n",
    "        counts_by_hours[hour_created] = 1\n",
    "        comments_by_hourse[hour_created] = row[1]\n",
    "    else:\n",
    "        counts_by_hours[hour_created] += 1\n",
    "        comments_by_hourse[hour_created] += row[1]\n",
    "\n",
    "\n",
    "avg_by_hour = []\n",
    "\n",
    "for key in counts_by_hours:\n",
    "    avg_by_hour.append([key, comments_by_hourse[key] / counts_by_hours[key]])\n",
    "\n",
    "\n",
    "for hour in avg_by_hour:\n",
    "    print(hour)"
   ]
  },
  {
   "cell_type": "markdown",
   "metadata": {
    "collapsed": true
   },
   "source": [
    "We now sort the list in descending order of the number of comments. To do this, we need to swap the `comments` and the `hour` columns. "
   ]
  },
  {
   "cell_type": "code",
   "execution_count": 9,
   "metadata": {},
   "outputs": [
    {
     "name": "stdout",
     "output_type": "stream",
     "text": [
      "[38.5948275862069, '15']\n",
      "[23.810344827586206, '02']\n",
      "[21.525, '20']\n",
      "[16.796296296296298, '16']\n",
      "[16.009174311926607, '21']\n",
      "[14.741176470588234, '13']\n",
      "[13.440677966101696, '10']\n",
      "[13.233644859813085, '14']\n",
      "[13.20183486238532, '18']\n",
      "[11.46, '17']\n",
      "[11.383333333333333, '01']\n",
      "[11.051724137931034, '11']\n",
      "[10.8, '19']\n",
      "[10.25, '08']\n",
      "[10.08695652173913, '05']\n",
      "[9.41095890410959, '12']\n",
      "[9.022727272727273, '06']\n",
      "[8.127272727272727, '00']\n",
      "[7.985294117647059, '23']\n",
      "[7.852941176470588, '07']\n",
      "[7.796296296296297, '03']\n",
      "[7.170212765957447, '04']\n",
      "[6.746478873239437, '22']\n",
      "[5.5777777777777775, '09']\n"
     ]
    }
   ],
   "source": [
    "swap_avg_by_hour = []\n",
    "for row in avg_by_hour:\n",
    "    swap_avg_by_hour.append([row[1], row[0]])\n",
    "\n",
    "sorted_swap = sorted(swap_avg_by_hour, reverse = True)\n",
    "\n",
    "for hour in sorted_swap:\n",
    "    print(hour)"
   ]
  },
  {
   "cell_type": "markdown",
   "metadata": {},
   "source": [
    "We narrow down the list to see the top 5 hours that a thread receives the most comments."
   ]
  },
  {
   "cell_type": "code",
   "execution_count": 10,
   "metadata": {},
   "outputs": [
    {
     "name": "stdout",
     "output_type": "stream",
     "text": [
      "Top 5 Hours for 'Ask HN' Posts Comments\n",
      "15:00: 38.59 average comments per post.\n",
      "02:00: 23.81 average comments per post.\n",
      "20:00: 21.52 average comments per post.\n",
      "16:00: 16.80 average comments per post.\n",
      "21:00: 16.01 average comments per post.\n"
     ]
    }
   ],
   "source": [
    "print('Top 5 Hours for \\'Ask HN\\' Posts Comments')\n",
    "for row in sorted_swap[:5]:\n",
    "    avg_comments = float(row[0])\n",
    "    hour_dt = dt.datetime.strptime(row[1], \"%H\")\n",
    "    hour_formated = hour_dt.strftime(\"%H:%M\")\n",
    "    print(\"{}: {:.2f} average comments per post.\".format(hour_formated,avg_comments))\n",
    "    "
   ]
  },
  {
   "cell_type": "markdown",
   "metadata": {},
   "source": [
    "These are the hours at which a post receives the largest number of comments. We can observe that the top hour (3pm-4pm) receives a significant number of comments compared to all other hours of the day.\n",
    "\n",
    "# Concluding Remarks\n",
    "\n",
    "In this project, we analyzed the data about Hacker News on the `Ask HN` and `Show HN` posts. We found that `Ask HN` posts receive most number of comments if they are posted between 3pm and 4pm. This findings shed lights on how one can get the maximum number of comments on the Hacker News community. "
   ]
  }
 ],
 "metadata": {
  "kernelspec": {
   "display_name": "Python 3",
   "language": "python",
   "name": "python3"
  },
  "language_info": {
   "codemirror_mode": {
    "name": "ipython",
    "version": 3
   },
   "file_extension": ".py",
   "mimetype": "text/x-python",
   "name": "python",
   "nbconvert_exporter": "python",
   "pygments_lexer": "ipython3",
   "version": "3.7.1"
  }
 },
 "nbformat": 4,
 "nbformat_minor": 2
}
